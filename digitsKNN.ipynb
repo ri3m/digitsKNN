{
 "cells": [
  {
   "cell_type": "code",
   "execution_count": 5,
   "metadata": {},
   "outputs": [],
   "source": [
    "from sklearn.datasets import load_digits\n",
    "from sklearn.model_selection import train_test_split\n",
    "from sklearn.neighbors import KNeighborsClassifier \n",
    "from sklearn.metrics import confusion_matrix\n",
    "\n",
    "\n",
    "digits=load_digits()\n",
    "\n",
    "X_train, X_test, y_train, y_test = train_test_split(digits.data,\n",
    "digits.target,\n",
    "random_state=11)\n",
    "\n",
    "knn=KNeighborsClassifier()\n",
    "knn.fit(X=X_train, y=y_train)\n",
    "predicted = knn.predict(X=X_test)\n",
    "expected=y_test\n",
    "\n",
    "confusion= confusion_matrix(y_true=expected, y_pred=predicted)"
   ]
  },
  {
   "cell_type": "markdown",
   "metadata": {},
   "source": [
    "# Compute the total number of samples that was used in confusion matrix"
   ]
  },
  {
   "cell_type": "code",
   "execution_count": 29,
   "metadata": {},
   "outputs": [
    {
     "name": "stdout",
     "output_type": "stream",
     "text": [
      "450\n"
     ]
    }
   ],
   "source": [
    "total=0\n",
    "for i in range(len(confusion)):\n",
    "    for j in range(len(confusion)):\n",
    "        total+=confusion[i, j]\n",
    "print(total)"
   ]
  },
  {
   "cell_type": "markdown",
   "metadata": {},
   "source": [
    "# Calculate Score"
   ]
  },
  {
   "cell_type": "code",
   "execution_count": 31,
   "metadata": {},
   "outputs": [
    {
     "name": "stdout",
     "output_type": "stream",
     "text": [
      "97.78%\n"
     ]
    }
   ],
   "source": [
    "#The confusion matrix diagonal represents the correct answer\n",
    "score=sum(confusion.diagonal())/total\n",
    "print(f'{score:.2%}')"
   ]
  },
  {
   "cell_type": "markdown",
   "metadata": {},
   "source": [
    "# How many times 7 was predicted incorrectly"
   ]
  },
  {
   "cell_type": "markdown",
   "metadata": {},
   "source": [
    "## How many times did it predict 7 and it was the wrong answer"
   ]
  },
  {
   "cell_type": "code",
   "execution_count": 47,
   "metadata": {},
   "outputs": [
    {
     "name": "stdout",
     "output_type": "stream",
     "text": [
      "2\n"
     ]
    }
   ],
   "source": [
    "total_sev=0\n",
    "for i in range(len(confusion[0])):\n",
    "    if(i!=7): #intersection of 7 and 7 is predicted correctly\n",
    "        total_sev+=confusion[i, 7]\n",
    "print(total_sev)\n"
   ]
  },
  {
   "cell_type": "markdown",
   "metadata": {},
   "source": [
    "## How many times it predict a different digit when 7 was the expected answer"
   ]
  },
  {
   "cell_type": "code",
   "execution_count": 53,
   "metadata": {},
   "outputs": [
    {
     "name": "stdout",
     "output_type": "stream",
     "text": [
      "0\n"
     ]
    }
   ],
   "source": [
    "total_sev=0\n",
    "for i in range(len(confusion)):\n",
    "    if(i!=7):\n",
    "        total_sev+=confusion[7,i]\n",
    "print(total_sev)"
   ]
  }
 ],
 "metadata": {
  "kernelspec": {
   "display_name": "Python 3",
   "language": "python",
   "name": "python3"
  },
  "language_info": {
   "codemirror_mode": {
    "name": "ipython",
    "version": 3
   },
   "file_extension": ".py",
   "mimetype": "text/x-python",
   "name": "python",
   "nbconvert_exporter": "python",
   "pygments_lexer": "ipython3",
   "version": "3.7.3"
  }
 },
 "nbformat": 4,
 "nbformat_minor": 2
}
